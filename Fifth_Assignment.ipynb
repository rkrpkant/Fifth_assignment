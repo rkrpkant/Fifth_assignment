{
  "nbformat": 4,
  "nbformat_minor": 0,
  "metadata": {
    "colab": {
      "provenance": []
    },
    "kernelspec": {
      "name": "python3",
      "display_name": "Python 3"
    },
    "language_info": {
      "name": "python"
    }
  },
  "cells": [
    {
      "cell_type": "code",
      "source": [
        "# Q1. Generate a list of 100 integers containing values between 90 to 130 and store it in the variable `int_list`.\n",
        "# After generating the list, find the following:\n",
        "#  (i) Write a Python function to calculate the mean of a given list of numbers.\n",
        "#  Create a function to find the median of a list of numbers.\n",
        "\n",
        "import random\n",
        "int_list = [random.randint(90, 130) for _ in range(100)]\n",
        "\n",
        "def calculate_mean(numbers):\n",
        "  \"\"\"Calculates the mean of a list of numbers.\n",
        "  Args:\n",
        "    numbers: A list of numbers.\n",
        "  Returns:\n",
        "    The mean of the numbers.\n",
        "  \"\"\"\n",
        "  if not numbers:\n",
        "    return 0  # Handle empty list case\n",
        "  return sum(numbers) / len(numbers)\n",
        "\n",
        "def calculate_median(numbers):\n",
        "  \"\"\"Calculates the median of a list of numbers.\n",
        "  Args:\n",
        "    numbers: A list of numbers.\n",
        "  Returns:\n",
        "    The median of the numbers.\n",
        "  \"\"\"\n",
        "  numbers.sort()\n",
        "  n = len(numbers)\n",
        "  if n % 2 == 0:\n",
        "    # Even number of elements, median is the average of the middle two\n",
        "    mid1 = numbers[n // 2 - 1]\n",
        "    mid2 = numbers[n // 2]\n",
        "    median = (mid1 + mid2) / 2\n",
        "  else:\n",
        "    # Odd number of elements, median is the middle element\n",
        "    median = numbers[n // 2]\n",
        "  return median\n",
        "\n",
        "# Example usage (you can replace this with your int_list):\n",
        "mean = calculate_mean(int_list)\n",
        "median = calculate_median(int_list)\n",
        "\n",
        "print(f\"Mean: {mean}\")\n",
        "print(f\"Median: {median}\")\n"
      ],
      "metadata": {
        "colab": {
          "base_uri": "https://localhost:8080/"
        },
        "id": "Krw0OpzYBfPO",
        "outputId": "5b81719b-0d0e-4ebc-af33-81f85e8a3fd8"
      },
      "execution_count": null,
      "outputs": [
        {
          "output_type": "stream",
          "name": "stdout",
          "text": [
            "Mean: 108.8\n",
            "Median: 109.0\n"
          ]
        }
      ]
    },
    {
      "cell_type": "code",
      "source": [
        "# Q1. Generate a list of 100 integers containing values between 90 to 130 and store it in the variable `int_list`.\n",
        "# After generating the list, find the following:\n",
        "# (ii) Develop a program to compute the mode of a list of integers.\n",
        "\n",
        "import random\n",
        "int_list = [random.randint(90, 130) for _ in range(100)]\n",
        "\n",
        "from collections import Counter\n",
        "\n",
        "def calculate_mode(numbers):\n",
        "    \"\"\"Calculates the mode of a list of numbers.\n",
        "    Args:\n",
        "        numbers: A list of numbers.\n",
        "    Returns:\n",
        "        The mode of the numbers. Returns an empty list if the list is empty or all numbers have the same frequency\n",
        "    \"\"\"\n",
        "    if not numbers:\n",
        "        return []\n",
        "\n",
        "    counts = Counter(numbers)\n",
        "    max_count = max(counts.values())\n",
        "\n",
        "    # Handle cases with multiple modes or no unique mode\n",
        "    modes = [num for num, count in counts.items() if count == max_count]\n",
        "\n",
        "    if len(modes) == len(numbers):\n",
        "        return [] #all elements have the same frequency\n",
        "\n",
        "    return modes\n",
        "\n",
        "# Example usage with the existing int_list\n",
        "mode = calculate_mode(int_list)\n",
        "print(f\"Mode: {mode}\")\n"
      ],
      "metadata": {
        "colab": {
          "base_uri": "https://localhost:8080/"
        },
        "id": "ZnWtpxu6BwHw",
        "outputId": "9034537d-9cc6-48b8-802d-3b088a2a50ee"
      },
      "execution_count": null,
      "outputs": [
        {
          "output_type": "stream",
          "name": "stdout",
          "text": [
            "Mode: [123]\n"
          ]
        }
      ]
    },
    {
      "cell_type": "code",
      "source": [
        "#  Q1. Generate a list of 100 integers containing values between 90 to 130 and store it in the variable `int_list`.\n",
        "#  After generating the list, find the following:\n",
        "#  (iii) Implement a function to calculate the weighted mean of a list of values and their corresponding weights.\n",
        "\n",
        "import random\n",
        "from collections import Counter\n",
        "\n",
        "def calculate_weighted_mean(values, weights):\n",
        "    \"\"\"Calculates the weighted mean of a list of values and their corresponding weights.\n",
        "\n",
        "    Args:\n",
        "        values: A list of numerical values.\n",
        "        weights: A list of weights corresponding to the values.\n",
        "\n",
        "    Returns:\n",
        "        The weighted mean of the values. Returns 0 if either list is empty or if the lengths of the lists are different.\n",
        "    \"\"\"\n",
        "    if not values or not weights or len(values) != len(weights):\n",
        "        return 0\n",
        "\n",
        "    weighted_sum = sum(val * weight for val, weight in zip(values, weights))\n",
        "    total_weight = sum(weights)\n",
        "\n",
        "    if total_weight == 0:\n",
        "        return 0\n",
        "\n",
        "    return weighted_sum / total_weight\n",
        "\n",
        "#Example usage\n",
        "values = [10, 20, 30, 40]\n",
        "weights = [0.2, 0.3, 0.1, 0.4]\n",
        "weighted_mean = calculate_weighted_mean(values, weights)\n",
        "print(f\"Weighted Mean: {weighted_mean}\")\n"
      ],
      "metadata": {
        "colab": {
          "base_uri": "https://localhost:8080/"
        },
        "id": "apyqj0IVCUzp",
        "outputId": "26987c42-02ee-49ed-aea9-94a18d90540c"
      },
      "execution_count": null,
      "outputs": [
        {
          "output_type": "stream",
          "name": "stdout",
          "text": [
            "Weighted Mean: 27.0\n"
          ]
        }
      ]
    },
    {
      "cell_type": "code",
      "source": [
        "#  Q1. Generate a list of 100 integers containing values between 90 to 130 and store it in the variable `int_list`.\n",
        "#  After generating the list, find the following:\n",
        "# (iv) Write a Python function to find the geometric mean of a list of positive numbers.\n",
        "\n",
        "import math\n",
        "\n",
        "def calculate_geometric_mean(numbers):\n",
        "    \"\"\"Calculates the geometric mean of a list of positive numbers.\n",
        "\n",
        "    Args:\n",
        "      numbers: A list of positive numbers.\n",
        "\n",
        "    Returns:\n",
        "      The geometric mean of the numbers. Returns 0 if the input list is empty or contains non-positive numbers.\n",
        "    \"\"\"\n",
        "    if not numbers or any(num <= 0 for num in numbers):\n",
        "        return 0\n",
        "\n",
        "    product = 1\n",
        "    for num in numbers:\n",
        "        product *= num\n",
        "\n",
        "    return math.pow(product, 1/len(numbers))\n",
        "\n",
        "# Example usage with int_list\n",
        "geometric_mean = calculate_geometric_mean(int_list)\n",
        "print(f\"Geometric Mean: {geometric_mean}\")\n"
      ],
      "metadata": {
        "colab": {
          "base_uri": "https://localhost:8080/"
        },
        "id": "8LOabfybC2T3",
        "outputId": "d021f588-8f6d-4c8c-a077-bc719942b625"
      },
      "execution_count": null,
      "outputs": [
        {
          "output_type": "stream",
          "name": "stdout",
          "text": [
            "Geometric Mean: 109.03100298147656\n"
          ]
        }
      ]
    },
    {
      "cell_type": "code",
      "source": [
        "# Q1. Generate a list of 100 integers containing values between 90 to 130 and store it in the variable `int_list`.\n",
        "# After generating the list, find the following:\n",
        "#(v) Create a program to calculate the harmonic mean of a list of values.\n",
        "\n",
        "import random\n",
        "int_list = [random.randint(90, 130) for _ in range(100)]\n",
        "\n",
        "def calculate_harmonic_mean(numbers):\n",
        "    \"\"\"Calculates the harmonic mean of a list of numbers.\n",
        "\n",
        "    Args:\n",
        "      numbers: A list of positive numbers.\n",
        "\n",
        "    Returns:\n",
        "      The harmonic mean of the numbers. Returns 0 if the input list is empty or contains non-positive numbers.\n",
        "    \"\"\"\n",
        "    if not numbers or any(num <= 0 for num in numbers):\n",
        "        return 0\n",
        "\n",
        "    reciprocals_sum = sum(1/num for num in numbers)\n",
        "\n",
        "    return len(numbers) / reciprocals_sum\n",
        "\n",
        "# Example usage with int_list\n",
        "harmonic_mean = calculate_harmonic_mean(int_list)\n",
        "print(f\"Harmonic Mean: {harmonic_mean}\")\n"
      ],
      "metadata": {
        "id": "FsT25PD6D94V",
        "colab": {
          "base_uri": "https://localhost:8080/"
        },
        "outputId": "b1a2365d-83df-4344-8bfc-97789d949970"
      },
      "execution_count": 2,
      "outputs": [
        {
          "output_type": "stream",
          "name": "stdout",
          "text": [
            "Harmonic Mean: 109.39641173739606\n"
          ]
        }
      ]
    },
    {
      "cell_type": "code",
      "source": [
        "# Q1. Generate a list of 100 integers containing values between 90 to 130 and store it in the variable `int_list`.\n",
        "# After generating the list, find the following:\n",
        "# (vi) Build a function to determine the midrange of a list of numbers (average of the minimum and maximum).\n",
        "\n",
        "import random\n",
        "int_list = [random.randint(90, 130) for _ in range(100)]\n",
        "\n",
        "def calculate_midrange(numbers):\n",
        "    \"\"\"Calculates the midrange of a list of numbers.\n",
        "\n",
        "    Args:\n",
        "      numbers: A list of numbers.\n",
        "\n",
        "    Returns:\n",
        "      The midrange of the numbers. Returns 0 if the input list is empty.\n",
        "    \"\"\"\n",
        "    if not numbers:\n",
        "        return 0\n",
        "    return (min(numbers) + max(numbers)) / 2\n",
        "\n",
        "# Example usage with int_list\n",
        "midrange = calculate_midrange(int_list)\n",
        "print(f\"Midrange: {midrange}\")\n"
      ],
      "metadata": {
        "colab": {
          "base_uri": "https://localhost:8080/"
        },
        "id": "lFjbKkJiu_tT",
        "outputId": "ccf4a952-2c6a-45ae-fd73-14e3a5b23207"
      },
      "execution_count": 3,
      "outputs": [
        {
          "output_type": "stream",
          "name": "stdout",
          "text": [
            "Midrange: 109.0\n"
          ]
        }
      ]
    },
    {
      "cell_type": "code",
      "source": [
        "#  Q1. Generate a list of 100 integers containing values between 90 to 130 and store it in the variable `int_list`.\n",
        "#  After generating the list, find the following:\n",
        "# (vii) Implement a Python program to find the trimmed mean of a list, excluding a certain percentage of outliers.\n",
        "\n",
        "import numpy as np\n",
        "\n",
        "import random\n",
        "int_list = [random.randint(90, 130) for _ in range(100)]\n",
        "\n",
        "def calculate_trimmed_mean(numbers, percentage):\n",
        "    \"\"\"Calculates the trimmed mean of a list of numbers.\n",
        "\n",
        "    Args:\n",
        "      numbers: A list of numbers.\n",
        "      percentage: The percentage of outliers to remove from each end of the sorted list (0 to 0.5).\n",
        "\n",
        "    Returns:\n",
        "      The trimmed mean of the numbers. Returns 0 if the input list is empty or the percentage is invalid.\n",
        "    \"\"\"\n",
        "    if not numbers:\n",
        "        return 0\n",
        "    if not 0 <= percentage <= 0.5:\n",
        "        return 0\n",
        "\n",
        "    numbers.sort()\n",
        "    n = len(numbers)\n",
        "    k = int(n * percentage)  # Number of elements to remove from each end\n",
        "\n",
        "    trimmed_numbers = numbers[k:n-k]  # Remove k elements from both ends\n",
        "\n",
        "    return np.mean(trimmed_numbers) # Reuse the calculate_mean function\n",
        "\n",
        "# Example usage with int_list and a 10% trim\n",
        "trimmed_mean = calculate_trimmed_mean(int_list, 0.1)\n",
        "print(f\"Trimmed Mean (10%): {trimmed_mean}\")\n"
      ],
      "metadata": {
        "colab": {
          "base_uri": "https://localhost:8080/"
        },
        "id": "EZMW1I5jvpC7",
        "outputId": "b1fc3af5-7e23-4cd4-fd16-d63632c024a2"
      },
      "execution_count": 8,
      "outputs": [
        {
          "output_type": "stream",
          "name": "stdout",
          "text": [
            "Trimmed Mean (10%): 110.0625\n"
          ]
        }
      ]
    },
    {
      "cell_type": "code",
      "source": [
        "# Q2. Generate a list of 500 integers containing values between 200 to 300 and store it in the variable `int_list2`.\n",
        "# After generating the list, find the following:\n",
        "#  (i) Compare the given list of visualization for the given data:\n",
        "#  1. Frequency & Gaussian distribution\n",
        "#  2. Frequency smoothened KDE plot\n",
        "#  3. Gaussian distribution & smoothened KDE plot\n",
        "\n",
        "import random\n",
        "import matplotlib.pyplot as plt\n",
        "import seaborn as sns\n",
        "import numpy as np\n",
        "\n",
        "# Generate a list of 500 integers between 200 and 300\n",
        "int_list2 = [random.randint(200, 300) for _ in range(500)]\n",
        "\n",
        "# Frequency & Gaussian distribution\n",
        "plt.figure(figsize=(12, 6))\n",
        "plt.subplot(1, 3, 1)\n",
        "plt.hist(int_list2, bins=20, density=True, alpha=0.6, color='b', label='Frequency')\n",
        "mu = np.mean(int_list2)  # mean of distribution\n",
        "sigma = np.std(int_list2)  # standard deviation of distribution\n",
        "x = np.linspace(mu - 3 * sigma, mu + 3 * sigma, 100)\n",
        "plt.plot(x, 1 / (sigma * np.sqrt(2 * np.pi)) * np.exp(- (x - mu) ** 2 / (2 * sigma ** 2)), linewidth=2, color='r', label='Gaussian')\n",
        "plt.title(\"Frequency & Gaussian distribution\")\n",
        "plt.legend()\n",
        "\n",
        "# Frequency smoothened KDE plot\n",
        "plt.subplot(1, 3, 2)\n",
        "sns.kdeplot(int_list2, shade=True, color='g', label='KDE')\n",
        "plt.title(\"Frequency smoothened KDE plot\")\n",
        "plt.legend()\n",
        "\n",
        "# Gaussian distribution & smoothened KDE plot\n",
        "plt.subplot(1, 3, 3)\n",
        "sns.kdeplot(int_list2, shade=True, color='g', label='KDE')\n",
        "plt.plot(x, 1 / (sigma * np.sqrt(2 * np.pi)) * np.exp(- (x - mu) ** 2 / (2 * sigma ** 2)), linewidth=2, color='r', label='Gaussian')\n",
        "plt.title(\"Gaussian distribution & smoothened KDE plot\")\n",
        "plt.legend()\n",
        "plt.tight_layout()\n",
        "plt.show()\n"
      ],
      "metadata": {
        "colab": {
          "base_uri": "https://localhost:8080/",
          "height": 784
        },
        "id": "DF18JAe5v_oB",
        "outputId": "6ba9b35d-9c68-4ec4-c2a2-c7762b27e15f"
      },
      "execution_count": 9,
      "outputs": [
        {
          "output_type": "stream",
          "name": "stderr",
          "text": [
            "<ipython-input-9-5d9606da291f>:29: FutureWarning: \n",
            "\n",
            "`shade` is now deprecated in favor of `fill`; setting `fill=True`.\n",
            "This will become an error in seaborn v0.14.0; please update your code.\n",
            "\n",
            "  sns.kdeplot(int_list2, shade=True, color='g', label='KDE')\n",
            "<ipython-input-9-5d9606da291f>:35: FutureWarning: \n",
            "\n",
            "`shade` is now deprecated in favor of `fill`; setting `fill=True`.\n",
            "This will become an error in seaborn v0.14.0; please update your code.\n",
            "\n",
            "  sns.kdeplot(int_list2, shade=True, color='g', label='KDE')\n"
          ]
        },
        {
          "output_type": "display_data",
          "data": {
            "text/plain": [
              "<Figure size 1200x600 with 3 Axes>"
            ],
            "image/png": "[encoded data removed]"
          },
          "metadata": {}
        }
      ]
    },
    {
      "cell_type": "code",
      "source": [
        "# Q2. Generate a list of 500 integers containing values between 200 to 300 and store it in the variable `int_list2`.\n",
        "# After generating the list, find the following:\n",
        "# (ii) Write a Python function to calculate the range of a given list of numbers.\n",
        "\n",
        "int_list2 = [random.randint(200, 300) for _ in range(500)]\n",
        "\n",
        "def calculate_range(numbers):\n",
        "    \"\"\"Calculates the range of a list of numbers.\n",
        "\n",
        "    Args:\n",
        "      numbers: A list of numbers.\n",
        "\n",
        "    Returns:\n",
        "      The range of the numbers (difference between maximum and minimum).\n",
        "      Returns 0 if the input list is empty.\n",
        "    \"\"\"\n",
        "    if not numbers:\n",
        "        return 0\n",
        "    return max(numbers) - min(numbers)\n",
        "\n",
        "# Example usage with int_list2\n",
        "range_of_numbers = calculate_range(int_list2)\n",
        "print(f\"Range: {range_of_numbers}\")\n"
      ],
      "metadata": {
        "colab": {
          "base_uri": "https://localhost:8080/"
        },
        "id": "8PtId4H7ywJb",
        "outputId": "42b8603d-1ddf-4a14-bc11-cca800114bf2"
      },
      "execution_count": 11,
      "outputs": [
        {
          "output_type": "stream",
          "name": "stdout",
          "text": [
            "Range: 100\n"
          ]
        }
      ]
    },
    {
      "cell_type": "code",
      "source": [
        "# Q2. Generate a list of 500 integers containing values between 200 to 300 and store it in the variable `int_list2`.\n",
        "# After generating the list, find the following:\n",
        "# (iii) Create a program to find the variance and standard deviation of a list of numbers.\n",
        "\n",
        "int_list2 = [random.randint(200, 300) for _ in range(500)]\n",
        "\n",
        "def calculate_variance_std(numbers):\n",
        "    \"\"\"Calculates the variance and standard deviation of a list of numbers.\n",
        "\n",
        "    Args:\n",
        "        numbers: A list of numbers.\n",
        "\n",
        "    Returns:\n",
        "        A tuple containing the variance and standard deviation. Returns (0, 0) if the input list is empty or has only one element.\n",
        "    \"\"\"\n",
        "    if len(numbers) < 2:\n",
        "        return 0, 0\n",
        "\n",
        "    mean = sum(numbers) / len(numbers)\n",
        "    squared_differences = [(x - mean) ** 2 for x in numbers]\n",
        "    variance = sum(squared_differences) / (len(numbers) -1)  # Sample variance\n",
        "    std_dev = variance ** 0.5\n",
        "    return variance, std_dev\n",
        "\n",
        "# Example usage with int_list2 (assuming it's already defined)\n",
        "int_list2 = [random.randint(200, 300) for _ in range(500)]\n",
        "variance, std_dev = calculate_variance_std(int_list2)\n",
        "print(f\"Variance: {variance}\")\n",
        "print(f\"Standard Deviation: {std_dev}\")\n"
      ],
      "metadata": {
        "colab": {
          "base_uri": "https://localhost:8080/"
        },
        "id": "CuWu1n980nVj",
        "outputId": "3c3430ef-f829-4a03-c3b5-731edbc9c313"
      },
      "execution_count": 12,
      "outputs": [
        {
          "output_type": "stream",
          "name": "stdout",
          "text": [
            "Variance: 891.6824809619235\n",
            "Standard Deviation: 29.861052911140348\n"
          ]
        }
      ]
    },
    {
      "cell_type": "code",
      "source": [
        "# Q2. Generate a list of 500 integers containing values between 200 to 300 and store it in the variable `int_list2`.\n",
        "# After generating the list, find the following:\n",
        "# (iv) Implement a function to compute the interquartile range (IQR) of a list of values.\n",
        "\n",
        "int_list2 = [random.randint(200, 300) for _ in range(500)]\n",
        "\n",
        "def calculate_iqr(numbers):\n",
        "    \"\"\"Calculates the interquartile range (IQR) of a list of numbers.\n",
        "\n",
        "    Args:\n",
        "      numbers: A list of numbers.\n",
        "\n",
        "    Returns:\n",
        "      The IQR of the numbers. Returns 0 if the input list has less than 2 elements.\n",
        "    \"\"\"\n",
        "    if len(numbers) < 2:\n",
        "        return 0\n",
        "\n",
        "    numbers.sort()\n",
        "    n = len(numbers)\n",
        "\n",
        "    # Calculate Q1 (first quartile)\n",
        "    q1_index = (n + 1) // 4\n",
        "    if n % 4 == 0:\n",
        "      q1 = (numbers[q1_index - 1] + numbers[q1_index]) / 2\n",
        "    else:\n",
        "      q1 = numbers[q1_index -1]\n",
        "\n",
        "    # Calculate Q3 (third quartile)\n",
        "    q3_index = 3 * (n + 1) // 4\n",
        "    if 3 * (n+1) % 4 == 0:\n",
        "      q3 = (numbers[q3_index -1 ] + numbers[q3_index]) / 2\n",
        "    else:\n",
        "      q3 = numbers[q3_index - 1]\n",
        "\n",
        "    iqr = q3 - q1\n",
        "    return iqr\n",
        "\n",
        "# Example usage with int_list2\n",
        "iqr = calculate_iqr(int_list2)\n",
        "print(f\"Interquartile Range (IQR): {iqr}\")\n"
      ],
      "metadata": {
        "colab": {
          "base_uri": "https://localhost:8080/"
        },
        "id": "tBysLbPA0obf",
        "outputId": "907491df-ef16-4b3b-8601-91c5c38a9364"
      },
      "execution_count": 13,
      "outputs": [
        {
          "output_type": "stream",
          "name": "stdout",
          "text": [
            "Interquartile Range (IQR): 51.0\n"
          ]
        }
      ]
    },
    {
      "cell_type": "code",
      "source": [
        "# Q2. Generate a list of 500 integers containing values between 200 to 300 and store it in the variable `int_list2`.\n",
        "#  After generating the list, find the following:\n",
        "# (v) Build a program to calculate the coefficient of variation for a dataset.\n",
        "\n",
        "int_list2 = [random.randint(200, 300) for _ in range(500)]\n",
        "\n",
        "def calculate_coefficient_of_variation(numbers):\n",
        "    \"\"\"Calculates the coefficient of variation for a dataset.\n",
        "\n",
        "    Args:\n",
        "      numbers: A list of numbers.\n",
        "\n",
        "    Returns:\n",
        "      The coefficient of variation. Returns 0 if the input list is empty or the mean is zero.\n",
        "    \"\"\"\n",
        "    if not numbers:\n",
        "        return 0\n",
        "\n",
        "    mean = sum(numbers) / len(numbers)\n",
        "    if mean == 0:\n",
        "        return 0\n",
        "\n",
        "    std_dev = np.std(numbers)  # Use NumPy for standard deviation calculation\n",
        "\n",
        "    return (std_dev / mean) * 100\n",
        "\n",
        "\n",
        "int_list2 = [random.randint(200, 300) for _ in range(500)]\n",
        "coefficient_of_variation = calculate_coefficient_of_variation(int_list2)\n",
        "print(f\"Coefficient of Variation: {coefficient_of_variation:.2f}%\")\n"
      ],
      "metadata": {
        "colab": {
          "base_uri": "https://localhost:8080/"
        },
        "id": "pGgC1WgV1Gnh",
        "outputId": "2db7e05a-7a35-4692-8d36-b1eb17374931"
      },
      "execution_count": 14,
      "outputs": [
        {
          "output_type": "stream",
          "name": "stdout",
          "text": [
            "Coefficient of Variation: 11.69%\n"
          ]
        }
      ]
    },
    {
      "cell_type": "code",
      "source": [
        "# Q2. Generate a list of 500 integers containing values between 200 to 300 and store it in the variable `int_list2`.\n",
        "# After generating the list, find the following:\n",
        "# (vi) Write a Python function to find the mean absolute deviation (MAD) of a list of numbers.\n",
        "\n",
        "int_list2 = [random.randint(200, 300) for _ in range(500)]\n",
        "\n",
        "def calculate_mad(numbers):\n",
        "    \"\"\"Calculates the mean absolute deviation (MAD) of a list of numbers.\n",
        "\n",
        "    Args:\n",
        "        numbers: A list of numbers.\n",
        "\n",
        "    Returns:\n",
        "        The MAD of the numbers. Returns 0 if the input list is empty.\n",
        "    \"\"\"\n",
        "    if not numbers:\n",
        "        return 0\n",
        "\n",
        "    mean = sum(numbers) / len(numbers)\n",
        "    absolute_deviations = [abs(x - mean) for x in numbers]\n",
        "    mad = sum(absolute_deviations) / len(numbers)\n",
        "    return mad\n",
        "\n",
        "# Example usage with int_list2\n",
        "int_list2 = [random.randint(200, 300) for _ in range(500)]\n",
        "mad = calculate_mad(int_list2)\n",
        "print(f\"Mean Absolute Deviation (MAD): {mad}\")\n"
      ],
      "metadata": {
        "colab": {
          "base_uri": "https://localhost:8080/"
        },
        "id": "HApplCz_1ePy",
        "outputId": "eb4be18e-695d-48c2-c3d9-8edad950e38c"
      },
      "execution_count": 15,
      "outputs": [
        {
          "output_type": "stream",
          "name": "stdout",
          "text": [
            "Mean Absolute Deviation (MAD): 24.94448\n"
          ]
        }
      ]
    },
    {
      "cell_type": "code",
      "source": [
        "# Q2. Generate a list of 500 integers containing values between 200 to 300 and store it in the variable `int_list2`.\n",
        "#  After generating the list, find the following:\n",
        "# (vii) Create a program to calculate the quartile deviation of a list of values.\n",
        "\n",
        "int_list2 = [random.randint(200, 300) for _ in range(500)]\n",
        "\n",
        "def calculate_quartile_deviation(numbers):\n",
        "    \"\"\"Calculates the quartile deviation of a list of numbers.\n",
        "\n",
        "    Args:\n",
        "      numbers: A list of numbers.\n",
        "\n",
        "    Returns:\n",
        "      The quartile deviation of the numbers. Returns 0 if the input list has less than 2 elements.\n",
        "    \"\"\"\n",
        "    if len(numbers) < 2:\n",
        "        return 0\n",
        "\n",
        "    numbers.sort()\n",
        "    n = len(numbers)\n",
        "\n",
        "    # Calculate Q1 (first quartile)\n",
        "    q1_index = (n + 1) // 4\n",
        "    if n % 4 == 0:\n",
        "      q1 = (numbers[q1_index - 1] + numbers[q1_index]) / 2\n",
        "    else:\n",
        "      q1 = numbers[q1_index -1]\n",
        "\n",
        "    # Calculate Q3 (third quartile)\n",
        "    q3_index = 3 * (n + 1) // 4\n",
        "    if 3 * (n+1) % 4 == 0:\n",
        "      q3 = (numbers[q3_index -1 ] + numbers[q3_index]) / 2\n",
        "    else:\n",
        "      q3 = numbers[q3_index - 1]\n",
        "\n",
        "    quartile_deviation = (q3 - q1) / 2\n",
        "    return quartile_deviation\n",
        "\n",
        "int_list2 = [random.randint(200, 300) for _ in range(500)]\n",
        "quartile_deviation = calculate_quartile_deviation(int_list2)\n",
        "print(f\"Quartile Deviation: {quartile_deviation}\")\n"
      ],
      "metadata": {
        "colab": {
          "base_uri": "https://localhost:8080/"
        },
        "id": "WX-d4bRD1wY8",
        "outputId": "6bb0be82-5f47-479a-a5aa-4ffb074f8b6d"
      },
      "execution_count": 16,
      "outputs": [
        {
          "output_type": "stream",
          "name": "stdout",
          "text": [
            "Quartile Deviation: 25.0\n"
          ]
        }
      ]
    },
    {
      "cell_type": "code",
      "source": [
        "# Q2. Generate a list of 500 integers containing values between 200 to 300 and store it in the variable `int_list2`.\n",
        "# After generating the list, find the following:\n",
        "# (viii) Implement a function to find the range-based coefficient of dispersion for a dataset.\n",
        "\n",
        "int_list2 = [random.randint(200, 300) for _ in range(500)]\n",
        "\n",
        "def calculate_range_coefficient_of_dispersion(numbers):\n",
        "    \"\"\"Calculates the range-based coefficient of dispersion for a dataset.\n",
        "\n",
        "    Args:\n",
        "      numbers: A list of numbers.\n",
        "\n",
        "    Returns:\n",
        "      The range-based coefficient of dispersion. Returns 0 if the input list is empty or the range is zero.\n",
        "    \"\"\"\n",
        "    if not numbers:\n",
        "        return 0\n",
        "\n",
        "    data_range = max(numbers) - min(numbers)\n",
        "    if data_range == 0:\n",
        "        return 0\n",
        "\n",
        "    mean = sum(numbers) / len(numbers)\n",
        "    if mean == 0:\n",
        "        return 0\n",
        "\n",
        "    return data_range / mean\n",
        "\n",
        "int_list2 = [random.randint(200, 300) for _ in range(500)]\n",
        "range_coefficient_of_dispersion = calculate_range_coefficient_of_dispersion(int_list2)\n",
        "print(f\"Range-based Coefficient of Dispersion: {range_coefficient_of_dispersion}\")\n"
      ],
      "metadata": {
        "colab": {
          "base_uri": "https://localhost:8080/"
        },
        "id": "WKSK7iwr2IIM",
        "outputId": "13e9be86-d030-4cc5-c321-c268cb9a7ec1"
      },
      "execution_count": 17,
      "outputs": [
        {
          "output_type": "stream",
          "name": "stdout",
          "text": [
            "Range-based Coefficient of Dispersion: 0.40100733041399994\n"
          ]
        }
      ]
    },
    {
      "cell_type": "code",
      "source": [
        "# Q3.  Write a Python class representing a discrete random variable with methods to calculate its expected\n",
        "# value and variance.\n",
        "\n",
        "class DiscreteRandomVariable:\n",
        "    def __init__(self, values, probabilities):\n",
        "        \"\"\"\n",
        "        Initializes a DiscreteRandomVariable object.\n",
        "\n",
        "        Args:\n",
        "            values: A list of possible values for the random variable.\n",
        "            probabilities: A list of probabilities corresponding to the values.\n",
        "        \"\"\"\n",
        "        if len(values) != len(probabilities):\n",
        "            raise ValueError(\"Values and probabilities lists must have the same length.\")\n",
        "        if not all(0 <= p <= 1 for p in probabilities):\n",
        "            raise ValueError(\"Probabilities must be between 0 and 1.\")\n",
        "        if not math.isclose(sum(probabilities), 1.0):\n",
        "          raise ValueError(\"Probabilities must sum to 1\")\n",
        "\n",
        "        self.values = values\n",
        "        self.probabilities = probabilities\n",
        "\n",
        "    def expected_value(self):\n",
        "        \"\"\"\n",
        "        Calculates the expected value (mean) of the random variable.\n",
        "        Returns:\n",
        "            The expected value.\n",
        "        \"\"\"\n",
        "        return sum(v * p for v, p in zip(self.values, self.probabilities))\n",
        "\n",
        "    def variance(self):\n",
        "        \"\"\"\n",
        "        Calculates the variance of the random variable.\n",
        "        Returns:\n",
        "            The variance.\n",
        "        \"\"\"\n",
        "        e_x = self.expected_value()\n",
        "        return sum((v - e_x)**2 * p for v, p in zip(self.values, self.probabilities))\n"
      ],
      "metadata": {
        "id": "ZrkTkVzX2c-T"
      },
      "execution_count": 19,
      "outputs": []
    },
    {
      "cell_type": "code",
      "source": [
        "# Q4. Implement a program to simulate the rolling of a fair six-sided die and calculate the expected value and\n",
        "# variance of the outcomes.\n",
        "\n",
        "import random\n",
        "from collections import Counter\n",
        "import math\n",
        "import numpy as np\n",
        "import matplotlib.pyplot as plt\n",
        "import seaborn as sns\n",
        "\n",
        "# ... (Existing code from the provided file)\n",
        "\n",
        "# Q3. Die Roll Simulation\n",
        "\n",
        "def simulate_die_roll(num_rolls=1000):\n",
        "    \"\"\"\n",
        "    Simulates the rolling of a fair six-sided die.\n",
        "\n",
        "    Args:\n",
        "        num_rolls: The number of times to roll the die.\n",
        "\n",
        "    Returns:\n",
        "        A tuple containing:\n",
        "            - A list of the outcomes of the die rolls.\n",
        "            - The expected value of the die rolls.\n",
        "            - The variance of the die rolls.\n",
        "    \"\"\"\n",
        "\n",
        "    outcomes = [random.randint(1, 6) for _ in range(num_rolls)]\n",
        "\n",
        "    # Calculate the expected value\n",
        "    expected_value = sum(outcomes) / len(outcomes)\n",
        "\n",
        "    # Calculate the variance\n",
        "    variance = sum((x - expected_value)**2 for x in outcomes) / len(outcomes)\n",
        "\n",
        "    return outcomes, expected_value, variance\n",
        "\n",
        "# Example usage\n",
        "num_rolls = 10000  # Increase the number of rolls for better approximation\n",
        "outcomes, expected_value, variance = simulate_die_roll(num_rolls)\n",
        "\n",
        "print(f\"Expected Value: {expected_value}\")\n",
        "print(f\"Variance: {variance}\")\n",
        "\n",
        "# Plot histogram for visualization\n",
        "plt.hist(outcomes, bins=range(1, 8), align='left', rwidth=0.8, density=True)\n",
        "plt.xlabel(\"Die Roll Outcome\")\n",
        "plt.ylabel(\"Probability\")\n",
        "plt.title(\"Distribution of Die Roll Outcomes\")\n",
        "plt.show()\n",
        "\n"
      ],
      "metadata": {
        "colab": {
          "base_uri": "https://localhost:8080/",
          "height": 507
        },
        "id": "bfBtnYKy3Avu",
        "outputId": "404a1197-a71b-4764-e16c-70cbc6e9096a"
      },
      "execution_count": 20,
      "outputs": [
        {
          "output_type": "stream",
          "name": "stdout",
          "text": [
            "Expected Value: 3.5092\n",
            "Variance: 2.9571153599999094\n"
          ]
        },
        {
          "output_type": "display_data",
          "data": {
            "text/plain": [
              "<Figure size 640x480 with 1 Axes>"
            ],
            "image/png": "[encoded data removed]"
          },
          "metadata": {}
        }
      ]
    },
    {
      "cell_type": "code",
      "source": [
        "# Q5. Create a Python function to generate random samples from a given probability distribution (e.g.,\n",
        "# binomial, Poisson) and calculate their mean and variance.\n",
        "\n",
        "import random\n",
        "\n",
        "def generate_samples(distribution, params, num_samples):\n",
        "    \"\"\"Generates random samples from a given probability distribution.\n",
        "\n",
        "    Args:\n",
        "        distribution: The name of the distribution (e.g., 'binomial', 'poisson').\n",
        "        params: A dictionary of parameters for the distribution.\n",
        "        num_samples: The number of samples to generate.\n",
        "\n",
        "    Returns:\n",
        "        A list of random samples.\n",
        "    \"\"\"\n",
        "\n",
        "    if distribution == 'binomial':\n",
        "        n = params['n']\n",
        "        p = params['p']\n",
        "        samples = [random.choices([0, 1], weights=[1 - p, p], k=n).count(1)\n",
        "                   for _ in range(num_samples)]\n",
        "    elif distribution == 'poisson':\n",
        "        lam = params['lambda']\n",
        "        samples = [random.poisson(lam) for _ in range(num_samples)]\n",
        "    else:\n",
        "        raise ValueError(\"Invalid distribution name.\")\n",
        "\n",
        "    return samples\n",
        "\n",
        "def calculate_mean_variance(samples):\n",
        "  \"\"\"Calculates the mean and variance of a list of numbers.\n",
        "  \"\"\"\n",
        "  n = len(samples)\n",
        "  if n == 0:\n",
        "    return 0, 0\n",
        "  mean = sum(samples) / n\n",
        "  variance = sum([(x - mean)**2 for x in samples]) / n\n",
        "  return mean, variance\n",
        "\n",
        "# Example usage: Binomial distribution\n",
        "binomial_params = {'n': 10, 'p': 0.3}\n",
        "binomial_samples = generate_samples('binomial', binomial_params, 1000)\n",
        "binomial_mean, binomial_variance = calculate_mean_variance(binomial_samples)\n",
        "print(f\"Binomial Mean: {binomial_mean:.4f}, Variance: {binomial_variance:.4f}\")\n",
        "\n",
        "\n",
        "# Example usage: Poisson distribution\n",
        "poisson_params = {'lambda': 5}\n",
        "poisson_samples = generate_samples('poisson', poisson_params, 1000)\n",
        "poisson_mean, poisson_variance = calculate_mean_variance(poisson_samples)\n",
        "print(f\"Poisson Mean: {poisson_mean:.4f}, Variance: {poisson_variance:.4f}\")\n"
      ],
      "metadata": {
        "colab": {
          "base_uri": "https://localhost:8080/",
          "height": 373
        },
        "id": "PpYORXVZ3IVQ",
        "outputId": "d35ec9af-00a6-496b-a45d-eec556873a89"
      },
      "execution_count": 21,
      "outputs": [
        {
          "output_type": "stream",
          "name": "stdout",
          "text": [
            "Binomial Mean: 2.9770, Variance: 1.9905\n"
          ]
        },
        {
          "output_type": "error",
          "ename": "AttributeError",
          "evalue": "module 'random' has no attribute 'poisson'",
          "traceback": [
            "\u001b[0;31m---------------------------------------------------------------------------\u001b[0m",
            "\u001b[0;31mAttributeError\u001b[0m                            Traceback (most recent call last)",
            "\u001b[0;32m<ipython-input-21-0cd7d3b3e221>\u001b[0m in \u001b[0;36m<cell line: 0>\u001b[0;34m()\u001b[0m\n\u001b[1;32m     48\u001b[0m \u001b[0;31m# Example usage: Poisson distribution\u001b[0m\u001b[0;34m\u001b[0m\u001b[0;34m\u001b[0m\u001b[0m\n\u001b[1;32m     49\u001b[0m \u001b[0mpoisson_params\u001b[0m \u001b[0;34m=\u001b[0m \u001b[0;34m{\u001b[0m\u001b[0;34m'lambda'\u001b[0m\u001b[0;34m:\u001b[0m \u001b[0;36m5\u001b[0m\u001b[0;34m}\u001b[0m\u001b[0;34m\u001b[0m\u001b[0;34m\u001b[0m\u001b[0m\n\u001b[0;32m---> 50\u001b[0;31m \u001b[0mpoisson_samples\u001b[0m \u001b[0;34m=\u001b[0m \u001b[0mgenerate_samples\u001b[0m\u001b[0;34m(\u001b[0m\u001b[0;34m'poisson'\u001b[0m\u001b[0;34m,\u001b[0m \u001b[0mpoisson_params\u001b[0m\u001b[0;34m,\u001b[0m \u001b[0;36m1000\u001b[0m\u001b[0;34m)\u001b[0m\u001b[0;34m\u001b[0m\u001b[0;34m\u001b[0m\u001b[0m\n\u001b[0m\u001b[1;32m     51\u001b[0m \u001b[0mpoisson_mean\u001b[0m\u001b[0;34m,\u001b[0m \u001b[0mpoisson_variance\u001b[0m \u001b[0;34m=\u001b[0m \u001b[0mcalculate_mean_variance\u001b[0m\u001b[0;34m(\u001b[0m\u001b[0mpoisson_samples\u001b[0m\u001b[0;34m)\u001b[0m\u001b[0;34m\u001b[0m\u001b[0;34m\u001b[0m\u001b[0m\n\u001b[1;32m     52\u001b[0m \u001b[0mprint\u001b[0m\u001b[0;34m(\u001b[0m\u001b[0;34mf\"Poisson Mean: {poisson_mean:.4f}, Variance: {poisson_variance:.4f}\"\u001b[0m\u001b[0;34m)\u001b[0m\u001b[0;34m\u001b[0m\u001b[0;34m\u001b[0m\u001b[0m\n",
            "\u001b[0;32m<ipython-input-21-0cd7d3b3e221>\u001b[0m in \u001b[0;36mgenerate_samples\u001b[0;34m(distribution, params, num_samples)\u001b[0m\n\u001b[1;32m     23\u001b[0m     \u001b[0;32melif\u001b[0m \u001b[0mdistribution\u001b[0m \u001b[0;34m==\u001b[0m \u001b[0;34m'poisson'\u001b[0m\u001b[0;34m:\u001b[0m\u001b[0;34m\u001b[0m\u001b[0;34m\u001b[0m\u001b[0m\n\u001b[1;32m     24\u001b[0m         \u001b[0mlam\u001b[0m \u001b[0;34m=\u001b[0m \u001b[0mparams\u001b[0m\u001b[0;34m[\u001b[0m\u001b[0;34m'lambda'\u001b[0m\u001b[0;34m]\u001b[0m\u001b[0;34m\u001b[0m\u001b[0;34m\u001b[0m\u001b[0m\n\u001b[0;32m---> 25\u001b[0;31m         \u001b[0msamples\u001b[0m \u001b[0;34m=\u001b[0m \u001b[0;34m[\u001b[0m\u001b[0mrandom\u001b[0m\u001b[0;34m.\u001b[0m\u001b[0mpoisson\u001b[0m\u001b[0;34m(\u001b[0m\u001b[0mlam\u001b[0m\u001b[0;34m)\u001b[0m \u001b[0;32mfor\u001b[0m \u001b[0m_\u001b[0m \u001b[0;32min\u001b[0m \u001b[0mrange\u001b[0m\u001b[0;34m(\u001b[0m\u001b[0mnum_samples\u001b[0m\u001b[0;34m)\u001b[0m\u001b[0;34m]\u001b[0m\u001b[0;34m\u001b[0m\u001b[0;34m\u001b[0m\u001b[0m\n\u001b[0m\u001b[1;32m     26\u001b[0m     \u001b[0;32melse\u001b[0m\u001b[0;34m:\u001b[0m\u001b[0;34m\u001b[0m\u001b[0;34m\u001b[0m\u001b[0m\n\u001b[1;32m     27\u001b[0m         \u001b[0;32mraise\u001b[0m \u001b[0mValueError\u001b[0m\u001b[0;34m(\u001b[0m\u001b[0;34m\"Invalid distribution name.\"\u001b[0m\u001b[0;34m)\u001b[0m\u001b[0;34m\u001b[0m\u001b[0;34m\u001b[0m\u001b[0m\n",
            "\u001b[0;32m<ipython-input-21-0cd7d3b3e221>\u001b[0m in \u001b[0;36m<listcomp>\u001b[0;34m(.0)\u001b[0m\n\u001b[1;32m     23\u001b[0m     \u001b[0;32melif\u001b[0m \u001b[0mdistribution\u001b[0m \u001b[0;34m==\u001b[0m \u001b[0;34m'poisson'\u001b[0m\u001b[0;34m:\u001b[0m\u001b[0;34m\u001b[0m\u001b[0;34m\u001b[0m\u001b[0m\n\u001b[1;32m     24\u001b[0m         \u001b[0mlam\u001b[0m \u001b[0;34m=\u001b[0m \u001b[0mparams\u001b[0m\u001b[0;34m[\u001b[0m\u001b[0;34m'lambda'\u001b[0m\u001b[0;34m]\u001b[0m\u001b[0;34m\u001b[0m\u001b[0;34m\u001b[0m\u001b[0m\n\u001b[0;32m---> 25\u001b[0;31m         \u001b[0msamples\u001b[0m \u001b[0;34m=\u001b[0m \u001b[0;34m[\u001b[0m\u001b[0mrandom\u001b[0m\u001b[0;34m.\u001b[0m\u001b[0mpoisson\u001b[0m\u001b[0;34m(\u001b[0m\u001b[0mlam\u001b[0m\u001b[0;34m)\u001b[0m \u001b[0;32mfor\u001b[0m \u001b[0m_\u001b[0m \u001b[0;32min\u001b[0m \u001b[0mrange\u001b[0m\u001b[0;34m(\u001b[0m\u001b[0mnum_samples\u001b[0m\u001b[0;34m)\u001b[0m\u001b[0;34m]\u001b[0m\u001b[0;34m\u001b[0m\u001b[0;34m\u001b[0m\u001b[0m\n\u001b[0m\u001b[1;32m     26\u001b[0m     \u001b[0;32melse\u001b[0m\u001b[0;34m:\u001b[0m\u001b[0;34m\u001b[0m\u001b[0;34m\u001b[0m\u001b[0m\n\u001b[1;32m     27\u001b[0m         \u001b[0;32mraise\u001b[0m \u001b[0mValueError\u001b[0m\u001b[0;34m(\u001b[0m\u001b[0;34m\"Invalid distribution name.\"\u001b[0m\u001b[0;34m)\u001b[0m\u001b[0;34m\u001b[0m\u001b[0;34m\u001b[0m\u001b[0m\n",
            "\u001b[0;31mAttributeError\u001b[0m: module 'random' has no attribute 'poisson'"
          ]
        }
      ]
    },
    {
      "cell_type": "code",
      "source": [
        "# Q6. Write a Python script to generate random numbers from a Gaussian (normal) distribution and compute\n",
        "# the mean, variance, and standard deviation of the samples.\n",
        "\n",
        "import random\n",
        "import numpy as np\n",
        "\n",
        "def generate_gaussian_samples(mu, sigma, num_samples):\n",
        "    \"\"\"Generates random samples from a Gaussian distribution.\n",
        "\n",
        "    Args:\n",
        "        mu: The mean of the Gaussian distribution.\n",
        "        sigma: The standard deviation of the Gaussian distribution.\n",
        "        num_samples: The number of samples to generate.\n",
        "\n",
        "    Returns:\n",
        "        A tuple containing:\n",
        "            - A list of the generated Gaussian samples.\n",
        "            - The calculated mean of the samples.\n",
        "            - The calculated variance of the samples.\n",
        "            - The calculated standard deviation of the samples.\n",
        "    \"\"\"\n",
        "    samples = [random.gauss(mu, sigma) for _ in range(num_samples)]\n",
        "    sample_mean = np.mean(samples)\n",
        "    sample_variance = np.var(samples)\n",
        "    sample_stddev = np.std(samples)\n",
        "    return samples, sample_mean, sample_variance, sample_stddev\n",
        "\n",
        "\n",
        "# Example usage\n",
        "mu = 0  # Set the desired mean\n",
        "sigma = 1 # Set the desired standard deviation\n",
        "num_samples = 1000\n",
        "\n",
        "samples, sample_mean, sample_variance, sample_stddev = generate_gaussian_samples(mu, sigma, num_samples)\n",
        "\n",
        "print(f\"Gaussian Samples: {samples[:20]}...\")  # Print the first 20 samples\n",
        "print(f\"Sample Mean: {sample_mean}\")\n",
        "print(f\"Sample Variance: {sample_variance}\")\n",
        "print(f\"Sample Standard Deviation: {sample_stddev}\")\n"
      ],
      "metadata": {
        "colab": {
          "base_uri": "https://localhost:8080/"
        },
        "id": "SeOIFJzq3U3D",
        "outputId": "98f2f4e8-ee07-42d9-9242-57f7e9811d2b"
      },
      "execution_count": 22,
      "outputs": [
        {
          "output_type": "stream",
          "name": "stdout",
          "text": [
            "Gaussian Samples: [-1.1408519747840622, 0.6419977197742964, 0.04481452320277073, -0.6281866540088437, 0.06473261812369188, -0.03192709421796509, 1.4051041955097303, -0.25438474651037796, 0.19370232862249379, 0.6060553870311882, -0.17777755018285132, -1.4415642272886142, 0.22971586093776789, -0.9715558887586462, -0.6218177312840137, -0.26750363681344075, 0.32958910110533185, 1.8270920988758355, -0.534325804624665, -0.4643506091717082]...\n",
            "Sample Mean: 0.02075276342100223\n",
            "Sample Variance: 1.0493029293361804\n",
            "Sample Standard Deviation: 1.0243548844693329\n"
          ]
        }
      ]
    },
    {
      "cell_type": "code",
      "source": [
        "# Q7. Use seaborn library to load `tips` dataset. Find the following from the dataset for the columns `total_bill`\n",
        "# and `tip`:\n",
        "#  (i) Write a Python function that calculates their skewness.\n",
        "\n",
        "def calculate_skewness(data):\n",
        "    \"\"\"\n",
        "    Calculates the skewness of a dataset.\n",
        "\n",
        "    Args:\n",
        "        data: A pandas Series or a list of numerical values.\n",
        "\n",
        "    Returns:\n",
        "        The skewness of the data.\n",
        "    \"\"\"\n",
        "    import pandas as pd\n",
        "    if not isinstance(data, pd.Series):\n",
        "        data = pd.Series(data)\n",
        "    return data.skew()\n",
        "\n",
        "# Load the tips dataset\n",
        "tips = sns.load_dataset('tips')\n",
        "\n",
        "# Calculate skewness for 'total_bill'\n",
        "total_bill_skewness = calculate_skewness(tips['total_bill'])\n",
        "print(f\"Skewness of total_bill: {total_bill_skewness}\")\n",
        "\n",
        "# Calculate skewness for 'tip'\n",
        "tip_skewness = calculate_skewness(tips['tip'])\n",
        "print(f\"Skewness of tip: {tip_skewness}\")\n"
      ],
      "metadata": {
        "colab": {
          "base_uri": "https://localhost:8080/"
        },
        "id": "I1jmtQHm37Nz",
        "outputId": "b494e0dd-4637-4b6a-9d42-37945421c61a"
      },
      "execution_count": 23,
      "outputs": [
        {
          "output_type": "stream",
          "name": "stdout",
          "text": [
            "Skewness of total_bill: 1.1332130376158205\n",
            "Skewness of tip: 1.4654510370979401\n"
          ]
        }
      ]
    },
    {
      "cell_type": "code",
      "source": [
        "# prompt:  Q7. Use seaborn library to load `tips` dataset. Find the following from the dataset for the columns `total_bill`\n",
        "#  and `tip`:\n",
        "# (ii) Create a program that determines whether the columns exhibit positive skewness, negative skewness, or is approximately symmetric.\n",
        "\n",
        "def analyze_skewness(data):\n",
        "    \"\"\"\n",
        "    Analyzes the skewness of a dataset and determines if it's positive, negative, or symmetric.\n",
        "\n",
        "    Args:\n",
        "        data: A pandas Series or a list of numerical values.\n",
        "\n",
        "    Returns:\n",
        "        A string indicating the skewness type.\n",
        "    \"\"\"\n",
        "    skewness = calculate_skewness(data)\n",
        "    if skewness > 0.5:\n",
        "        return \"Positive Skewness\"\n",
        "    elif skewness < -0.5:\n",
        "        return \"Negative Skewness\"\n",
        "    else:\n",
        "        return \"Approximately Symmetric\"\n",
        "\n",
        "# Analyze skewness for 'total_bill'\n",
        "total_bill_skewness_type = analyze_skewness(tips['total_bill'])\n",
        "print(f\"Skewness of total_bill: {total_bill_skewness_type}\")\n",
        "\n",
        "# Analyze skewness for 'tip'\n",
        "tip_skewness_type = analyze_skewness(tips['tip'])\n",
        "print(f\"Skewness of tip: {tip_skewness_type}\")\n"
      ],
      "metadata": {
        "colab": {
          "base_uri": "https://localhost:8080/"
        },
        "id": "w4UHGlVb4YhN",
        "outputId": "544cc4d9-4eb5-4b10-dd96-ffacb95087cc"
      },
      "execution_count": 24,
      "outputs": [
        {
          "output_type": "stream",
          "name": "stdout",
          "text": [
            "Skewness of total_bill: Positive Skewness\n",
            "Skewness of tip: Positive Skewness\n"
          ]
        }
      ]
    },
    {
      "cell_type": "code",
      "source": [
        "# Q7. Use seaborn library to load `tips` dataset. Find the following from the dataset for the columns `total_bill`\n",
        "#  and `tip`:\n",
        "# (iii) Write a function that calculates the covariance between two columns.\n",
        "\n",
        "import pandas as pd\n",
        "\n",
        "def calculate_covariance(data1, data2):\n",
        "    \"\"\"\n",
        "    Calculates the covariance between two columns of data.\n",
        "\n",
        "    Args:\n",
        "        data1: A pandas Series or a list of numerical values representing the first column.\n",
        "        data2: A pandas Series or a list of numerical values representing the second column.\n",
        "\n",
        "    Returns:\n",
        "        The covariance between the two columns.\n",
        "    \"\"\"\n",
        "    if not isinstance(data1, pd.Series):\n",
        "        data1 = pd.Series(data1)\n",
        "    if not isinstance(data2, pd.Series):\n",
        "        data2 = pd.Series(data2)\n",
        "    return data1.cov(data2)\n",
        "\n",
        "# Load the tips dataset\n",
        "tips = sns.load_dataset('tips')\n",
        "\n",
        "# Calculate the covariance between 'total_bill' and 'tip'\n",
        "covariance = calculate_covariance(tips['total_bill'], tips['tip'])\n",
        "print(f\"Covariance between total_bill and tip: {covariance}\")\n"
      ],
      "metadata": {
        "colab": {
          "base_uri": "https://localhost:8080/"
        },
        "id": "6BUI1tcp42z9",
        "outputId": "05300536-ba3b-4709-80f0-59704a0186d5"
      },
      "execution_count": 26,
      "outputs": [
        {
          "output_type": "stream",
          "name": "stdout",
          "text": [
            "Covariance between total_bill and tip: 8.323501629224854\n"
          ]
        }
      ]
    },
    {
      "cell_type": "code",
      "source": [
        "# Q7. Use seaborn library to load `tips` dataset. Find the following from the dataset for the columns `total_bill`\n",
        "# and `tip`:\n",
        "# (iv) Implement a Python program that calculates the Pearson correlation coefficient between two columns.\n",
        "\n",
        "import pandas as pd\n",
        "\n",
        "def calculate_pearson_correlation(data1, data2):\n",
        "    \"\"\"\n",
        "    Calculates the Pearson correlation coefficient between two columns of data.\n",
        "\n",
        "    Args:\n",
        "        data1: A pandas Series or a list of numerical values representing the first column.\n",
        "        data2: A pandas Series or a list of numerical values representing the second column.\n",
        "\n",
        "    Returns:\n",
        "        The Pearson correlation coefficient between the two columns.\n",
        "    \"\"\"\n",
        "    if not isinstance(data1, pd.Series):\n",
        "        data1 = pd.Series(data1)\n",
        "    if not isinstance(data2, pd.Series):\n",
        "        data2 = pd.Series(data2)\n",
        "    return data1.corr(data2)\n",
        "\n",
        "# Load the tips dataset\n",
        "tips = sns.load_dataset('tips')\n",
        "\n",
        "# Calculate the Pearson correlation between 'total_bill' and 'tip'\n",
        "pearson_correlation = calculate_pearson_correlation(tips['total_bill'], tips['tip'])\n",
        "print(f\"Pearson correlation between total_bill and tip: {pearson_correlation}\")\n"
      ],
      "metadata": {
        "colab": {
          "base_uri": "https://localhost:8080/"
        },
        "id": "0_UewpQk6Bo2",
        "outputId": "d8faa6e2-749b-4ce0-f85c-a0ef62a46c91"
      },
      "execution_count": 27,
      "outputs": [
        {
          "output_type": "stream",
          "name": "stdout",
          "text": [
            "Pearson correlation between total_bill and tip: 0.6757341092113641\n"
          ]
        }
      ]
    },
    {
      "cell_type": "code",
      "source": [
        "# prompt: Q7. Use seaborn library to load `tips` dataset. Find the following from the dataset for the columns `total_bill`\n",
        "# and `tip`:  (v) Write a script to visualize the correlation between two specific columns in a Pandas DataFrame using\n",
        "# scatter plots.\n",
        "\n",
        "\n",
        "def visualize_correlation(df, col1, col2):\n",
        "    \"\"\"\n",
        "    Visualizes the correlation between two columns in a Pandas DataFrame using a scatter plot.\n",
        "\n",
        "    Args:\n",
        "      df: The Pandas DataFrame.\n",
        "      col1: The name of the first column.\n",
        "      col2: The name of the second column.\n",
        "    \"\"\"\n",
        "    plt.figure(figsize=(8, 6))\n",
        "    sns.scatterplot(x=col1, y=col2, data=df)\n",
        "    plt.title(f\"Scatter Plot of {col1} vs. {col2}\")\n",
        "    plt.xlabel(col1)\n",
        "    plt.ylabel(col2)\n",
        "    plt.show()\n",
        "\n",
        "# Load the tips dataset\n",
        "tips = sns.load_dataset('tips')\n",
        "\n",
        "# Visualize the correlation between 'total_bill' and 'tip'\n",
        "visualize_correlation(tips, 'total_bill', 'tip')\n"
      ],
      "metadata": {
        "colab": {
          "base_uri": "https://localhost:8080/",
          "height": 564
        },
        "id": "38g_883l6lvi",
        "outputId": "dd053c17-a268-4676-b1e4-79375449bb0c"
      },
      "execution_count": 28,
      "outputs": [
        {
          "output_type": "display_data",
          "data": {
            "text/plain": [
              "<Figure size 800x600 with 1 Axes>"
            ],
            "image/png": "[encoded data removed]"
          },
          "metadata": {}
        }
      ]
    },
    {
      "cell_type": "code",
      "source": [
        "# Q8. Write a Python function to calculate the probability density function (PDF) of a continuous random\n",
        "# variable for a given normal distribution.\n",
        "\n",
        "import math\n",
        "\n",
        "def normal_pdf(x, mu, sigma):\n",
        "    \"\"\"\n",
        "    Calculates the probability density function (PDF) of a normal distribution.\n",
        "\n",
        "    Args:\n",
        "        x: The value at which to evaluate the PDF.\n",
        "        mu: The mean of the normal distribution.\n",
        "        sigma: The standard deviation of the normal distribution.\n",
        "\n",
        "    Returns:\n",
        "        The PDF value at x.\n",
        "    \"\"\"\n",
        "    coefficient = 1 / (sigma * math.sqrt(2 * math.pi))\n",
        "    exponent = -((x - mu)**2) / (2 * sigma**2)\n",
        "    return coefficient * math.exp(exponent)\n"
      ],
      "metadata": {
        "id": "Ak-j1I-88juY"
      },
      "execution_count": 30,
      "outputs": []
    },
    {
      "cell_type": "code",
      "source": [
        "# Q9. Create a program to calculate the cumulative distribution function (CDF) of exponential distribution.\n",
        "\n",
        "import math\n",
        "\n",
        "def exponential_cdf(x, lambd):\n",
        "    \"\"\"\n",
        "    Calculates the cumulative distribution function (CDF) of an exponential distribution.\n",
        "\n",
        "    Args:\n",
        "        x: The value at which to evaluate the CDF.\n",
        "        lambd: The rate parameter (lambda) of the exponential distribution.\n",
        "\n",
        "    Returns:\n",
        "        The CDF value at x.  Returns 0 if x is negative, and 1 if lambda is zero.\n",
        "    \"\"\"\n",
        "    if x < 0:\n",
        "        return 0\n",
        "    if lambd == 0:\n",
        "        return 1\n",
        "    return 1 - math.exp(-lambd * x)\n"
      ],
      "metadata": {
        "id": "gLMNq_dZ8sIT"
      },
      "execution_count": 31,
      "outputs": []
    },
    {
      "cell_type": "code",
      "source": [
        "# Q10. Write a Python function to calculate the probability mass function (PMF) of Poisson distribution.\n",
        "\n",
        "import math\n",
        "\n",
        "def poisson_pmf(k, lambd):\n",
        "    \"\"\"\n",
        "    Calculates the probability mass function (PMF) of a Poisson distribution.\n",
        "\n",
        "    Args:\n",
        "        k: The number of events.\n",
        "        lambd: The average rate of events.\n",
        "\n",
        "    Returns:\n",
        "        The PMF value at k.\n",
        "    \"\"\"\n",
        "    if k < 0:\n",
        "        return 0\n",
        "\n",
        "    return (lambd**k * math.exp(-lambd)) / math.factorial(k)\n"
      ],
      "metadata": {
        "id": "c_wWuIi380sA"
      },
      "execution_count": 33,
      "outputs": []
    },
    {
      "cell_type": "code",
      "source": [
        "# Q11. A company wants to test if a new website layout leads to a higher conversion rate (percentage of visitors\n",
        "# who make a purchase). They collect data from the old and new layouts to compare.\n",
        "#  To generate the data use the following command:\n",
        "#  ```python\n",
        "#  import numpy as np\n",
        "#  # 50 purchases out of 1000 visitors\n",
        "#  old_layout = np.array([1] * 50 + [0] * 950)\n",
        "#  # 70 purchases out of 1000 visitors\n",
        "# new_layout = np.array([1] * 70 + [0] * 930)\n",
        "#  ```\n",
        "#  Apply z-test to find which layout is successful.\n",
        "\n",
        "import numpy as np\n",
        "from statsmodels.stats.weightstats import ztest\n",
        "\n",
        "# Generate the data\n",
        "old_layout = np.array([1] * 50 + [0] * 950)\n",
        "new_layout = np.array([1] * 70 + [0] * 930)\n",
        "\n",
        "# Perform the z-test\n",
        "z_statistic, p_value = ztest(old_layout, new_layout)\n",
        "\n",
        "print(f\"Z-statistic: {z_statistic}\")\n",
        "print(f\"P-value: {p_value}\")\n",
        "\n",
        "# Interpret the results\n",
        "alpha = 0.05  # Significance level\n",
        "if p_value < alpha:\n",
        "    print(\"Reject the null hypothesis. The new website layout leads to a significantly higher conversion rate.\")\n",
        "else:\n",
        "    print(\"Fail to reject the null hypothesis. There's no significant difference in conversion rates between the two layouts.\")\n"
      ],
      "metadata": {
        "colab": {
          "base_uri": "https://localhost:8080/"
        },
        "id": "Ul4Z3ry-EFnv",
        "outputId": "2cfa936f-3d0c-418c-b5f9-b4997525ab9c"
      },
      "execution_count": 34,
      "outputs": [
        {
          "output_type": "stream",
          "name": "stdout",
          "text": [
            "Z-statistic: -1.883837962960912\n",
            "P-value: 0.05958689675745177\n",
            "Fail to reject the null hypothesis. There's no significant difference in conversion rates between the two layouts.\n"
          ]
        }
      ]
    },
    {
      "cell_type": "code",
      "source": [
        "# Q12. A tutoring service claims that its program improves students' exam scores. A sample of students who\n",
        "# participated in the program was taken, and their scores before and after the program were recorded.\n",
        "#  Use the below code to generate samples of respective arrays of marks:\n",
        "#  ```python\n",
        "#  before_program = np.array([75, 80, 85, 70, 90, 78, 92, 88, 82, 87])\n",
        "#  after_program = np.array([80, 85, 90, 80, 92, 80, 95, 90, 85, 88])\n",
        "#  ```\n",
        "#  Use z-test to find if the claims made by tutor are true or false.\n",
        "\n",
        "import numpy as np\n",
        "from statsmodels.stats.weightstats import ztest\n",
        "\n",
        "before_program = np.array([75, 80, 85, 70, 90, 78, 92, 88, 82, 87])\n",
        "after_program = np.array([80, 85, 90, 80, 92, 80, 95, 90, 85, 88])\n",
        "\n",
        "z_statistic, p_value = ztest(before_program, after_program)\n",
        "\n",
        "print(f\"Z-statistic: {z_statistic}\")\n",
        "print(f\"P-value: {p_value}\")\n",
        "\n",
        "alpha = 0.05\n",
        "if p_value < alpha:\n",
        "    print(\"Reject the null hypothesis. The tutoring program significantly improves students' exam scores.\")\n",
        "else:\n",
        "    print(\"Fail to reject the null hypothesis. There's no significant difference in exam scores before and after the program.\")\n"
      ],
      "metadata": {
        "colab": {
          "base_uri": "https://localhost:8080/"
        },
        "id": "r5Sdgvb2Easq",
        "outputId": "1efeadfa-6602-48f0-c50b-18001a143e0b"
      },
      "execution_count": 35,
      "outputs": [
        {
          "output_type": "stream",
          "name": "stdout",
          "text": [
            "Z-statistic: -1.3600371723457605\n",
            "P-value: 0.17381816101827674\n",
            "Fail to reject the null hypothesis. There's no significant difference in exam scores before and after the program.\n"
          ]
        }
      ]
    },
    {
      "cell_type": "code",
      "source": [
        "# Q13. A pharmaceutical company wants to determine if a new drug is effective in reducing blood pressure. They\n",
        "# conduct a study and record blood pressure measurements before and after administering the drug.\n",
        "#  Use the below code to generate samples of respective arrays of blood pressure:\n",
        "#  ```python\n",
        "#  before_drug = np.array([145, 150, 140, 135, 155, 160, 152, 148, 130, 138])\n",
        "#  after_drug = np.array([130, 140, 132, 128, 145, 148, 138, 136, 125, 130])\n",
        "#  ```\n",
        "#  Implement z-test to find if the drug really works or not.\n",
        "\n",
        "before_drug = np.array([145, 150, 140, 135, 155, 160, 152, 148, 130, 138])\n",
        "after_drug = np.array([130, 140, 132, 128, 145, 148, 138, 136, 125, 130])\n",
        "\n",
        "z_statistic, p_value = ztest(before_drug, after_drug)\n",
        "\n",
        "print(f\"Z-statistic: {z_statistic}\")\n",
        "print(f\"P-value: {p_value}\")\n",
        "\n",
        "alpha = 0.05\n",
        "if p_value < alpha:\n",
        "    print(\"Reject the null hypothesis. The drug significantly reduces blood pressure.\")\n",
        "else:\n",
        "    print(\"Fail to reject the null hypothesis. There's no significant difference in blood pressure before and after taking the drug.\")\n"
      ],
      "metadata": {
        "colab": {
          "base_uri": "https://localhost:8080/"
        },
        "id": "frrgaOjjEm1m",
        "outputId": "9e8bd1a5-6c14-45f0-b7dc-9f137815ca82"
      },
      "execution_count": 36,
      "outputs": [
        {
          "output_type": "stream",
          "name": "stdout",
          "text": [
            "Z-statistic: 2.639577121919447\n",
            "P-value: 0.008300953387191556\n",
            "Reject the null hypothesis. The drug significantly reduces blood pressure.\n"
          ]
        }
      ]
    },
    {
      "cell_type": "code",
      "source": [
        "# Q14. A customer service department claims that their average response time is less than 5 minutes. A sample\n",
        "# of recent customer interactions was taken, and the response times were recorded.\n",
        "#  Implement the below code to generate the array of response time:\n",
        "#  ```python\n",
        "#  response_times = np.array([4.3, 3.8, 5.1, 4.9, 4.7, 4.2, 5.2, 4.5, 4.6, 4.4])\n",
        "#  ```\n",
        "#  Implement z-test to find the claims made by customer service department are true or false.\n",
        "\n",
        "import numpy as np\n",
        "from statsmodels.stats.weightstats import ztest\n",
        "\n",
        "response_times = np.array([4.3, 3.8, 5.1, 4.9, 4.7, 4.2, 5.2, 4.5, 4.6, 4.4])\n",
        "\n",
        "# We are testing if the average response time is less than 5 minutes\n",
        "# Null Hypothesis (H0): Average response time >= 5 minutes\n",
        "# Alternative Hypothesis (H1): Average response time < 5 minutes\n",
        "\n",
        "z_statistic, p_value = ztest(response_times, value=5, alternative='smaller')\n",
        "\n",
        "print(f\"Z-statistic: {z_statistic}\")\n",
        "print(f\"P-value: {p_value}\")\n",
        "\n",
        "alpha = 0.05  # Significance level\n",
        "\n",
        "if p_value < alpha:\n",
        "  print(\"Reject the null hypothesis. The average response time is significantly less than 5 minutes.\")\n",
        "else:\n",
        "  print(\"Fail to reject the null hypothesis. There's not enough evidence to support the claim that the average response time is less than 5 minutes.\")\n"
      ],
      "metadata": {
        "colab": {
          "base_uri": "https://localhost:8080/"
        },
        "id": "XmrYvyhnEnmT",
        "outputId": "d94c80ca-89ab-4a96-acf1-ec8c68f4b9d1"
      },
      "execution_count": 37,
      "outputs": [
        {
          "output_type": "stream",
          "name": "stdout",
          "text": [
            "Z-statistic: -3.1844572260429627\n",
            "P-value: 0.0007251287113068958\n",
            "Reject the null hypothesis. The average response time is significantly less than 5 minutes.\n"
          ]
        }
      ]
    },
    {
      "cell_type": "code",
      "source": [
        "# Q15. A company is testing two different website layouts to see which one leads to higher click-through rates.\n",
        "# Write a Python function to perform an A/B test analysis, including calculating the t-statistic, degrees of\n",
        "# freedom, and p-value.\n",
        "#  Use the following data:\n",
        "#  ```python\n",
        "#  layout_a_clicks = [28, 32, 33, 29, 31, 34, 30, 35, 36, 37]\n",
        "#  layout_b_clicks = [40, 41, 38, 42, 39, 44, 43, 41, 45, 47]\n",
        "\n",
        "import numpy as np\n",
        "from scipy import stats\n",
        "\n",
        "def ab_test(layout_a_clicks, layout_b_clicks):\n",
        "    \"\"\"\n",
        "    Performs an A/B test analysis.\n",
        "\n",
        "    Args:\n",
        "        layout_a_clicks: A list of click counts for layout A.\n",
        "        layout_b_clicks: A list of click counts for layout B.\n",
        "\n",
        "    Returns:\n",
        "        A dictionary containing the t-statistic, degrees of freedom, and p-value.\n",
        "    \"\"\"\n",
        "\n",
        "    t_statistic, p_value = stats.ttest_ind(layout_a_clicks, layout_b_clicks)\n",
        "    degrees_of_freedom = len(layout_a_clicks) + len(layout_b_clicks) - 2\n",
        "\n",
        "    return {\n",
        "        \"t_statistic\": t_statistic,\n",
        "        \"degrees_of_freedom\": degrees_of_freedom,\n",
        "        \"p_value\": p_value\n",
        "    }\n",
        "\n",
        "layout_a_clicks = [28, 32, 33, 29, 31, 34, 30, 35, 36, 37]\n",
        "layout_b_clicks = [40, 41, 38, 42, 39, 44, 43, 41, 45, 47]\n",
        "\n",
        "results = ab_test(layout_a_clicks, layout_b_clicks)\n",
        "results\n"
      ],
      "metadata": {
        "colab": {
          "base_uri": "https://localhost:8080/"
        },
        "id": "-NUHcHIJFGXC",
        "outputId": "0f94a296-b482-4d55-9459-99751224c07f"
      },
      "execution_count": 38,
      "outputs": [
        {
          "output_type": "execute_result",
          "data": {
            "text/plain": [
              "{'t_statistic': -7.298102156175071,\n",
              " 'degrees_of_freedom': 18,\n",
              " 'p_value': 8.833437608301987e-07}"
            ]
          },
          "metadata": {},
          "execution_count": 38
        }
      ]
    },
    {
      "cell_type": "code",
      "source": [
        "# Q16. A pharmaceutical company wants to determine if a new drug is more effective than an existing drug in\n",
        "# reducing cholesterol levels. Create a program to analyze the clinical trial data and calculate the t\n",
        "# Use the following data of cholestrol level:\n",
        "#  ```python\n",
        "#  existing_drug_levels = [180, 182, 175, 185, 178, 176, 172, 184, 179, 183]\n",
        "#  new_drug_levels = [170, 172, 165, 168, 175, 173, 170, 178, 172, 176]\n",
        "#  ```\n",
        "\n",
        "existing_drug_levels = [180, 182, 175, 185, 178, 176, 172, 184, 179, 183]\n",
        "new_drug_levels = [170, 172, 165, 168, 175, 173, 170, 178, 172, 176]\n",
        "\n",
        "# Perform the t-test\n",
        "t_statistic, p_value = stats.ttest_ind(existing_drug_levels, new_drug_levels)\n",
        "\n",
        "print(f\"T-statistic: {t_statistic}\")\n",
        "print(f\"P-value: {p_value}\")\n",
        "\n",
        "alpha = 0.05  # Significance level\n",
        "\n",
        "if p_value < alpha:\n",
        "    print(\"Reject the null hypothesis. The new drug is significantly more effective in reducing cholesterol levels.\")\n",
        "else:\n",
        "    print(\"Fail to reject the null hypothesis. There's no significant difference in cholesterol reduction between the two drugs.\")\n"
      ],
      "metadata": {
        "colab": {
          "base_uri": "https://localhost:8080/"
        },
        "id": "RJzxmnZAF3Hc",
        "outputId": "0108f6fa-0534-4af0-c6b2-6ac84ab047ff"
      },
      "execution_count": 39,
      "outputs": [
        {
          "output_type": "stream",
          "name": "stdout",
          "text": [
            "T-statistic: 4.14048098620866\n",
            "P-value: 0.0006143398442372505\n",
            "Reject the null hypothesis. The new drug is significantly more effective in reducing cholesterol levels.\n"
          ]
        }
      ]
    },
    {
      "cell_type": "code",
      "source": [
        "# Q17. A school district introduces an educational intervention program to improve math scores. Write a Python\n",
        "# function to analyze pre- and post-intervention test scores, calculating the t-statistic and p-value to\n",
        "# determine if the intervention had a significant impact.\n",
        "#  Use the following data of test score:\n",
        "#  ```python\n",
        "#  pre_intervention_scores = [80, 85, 90, 75, 88, 82, 92, 78, 85, 87]\n",
        "#  post_intervention_scores = [90, 92, 88, 92, 95, 91, 96, 93, 89, 93]\n",
        "#  ```\n",
        "\n",
        "def analyze_intervention(pre_scores, post_scores):\n",
        "    \"\"\"\n",
        "    Analyzes pre- and post-intervention test scores using a t-test.\n",
        "\n",
        "    Args:\n",
        "        pre_scores: A list of pre-intervention test scores.\n",
        "        post_scores: A list of post-intervention test scores.\n",
        "\n",
        "    Returns:\n",
        "        A dictionary containing the t-statistic and p-value.\n",
        "    \"\"\"\n",
        "    t_statistic, p_value = stats.ttest_rel(pre_scores, post_scores)\n",
        "    return {\"t_statistic\": t_statistic, \"p_value\": p_value}\n",
        "\n",
        "pre_intervention_scores = [80, 85, 90, 75, 88, 82, 92, 78, 85, 87]\n",
        "post_intervention_scores = [90, 92, 88, 92, 95, 91, 96, 93, 89, 93]\n",
        "\n",
        "results = analyze_intervention(pre_intervention_scores, post_intervention_scores)\n",
        "results\n"
      ],
      "metadata": {
        "colab": {
          "base_uri": "https://localhost:8080/"
        },
        "id": "OpSov3-FF39C",
        "outputId": "f76348ae-2627-48e2-b81a-4f195905b597"
      },
      "execution_count": 40,
      "outputs": [
        {
          "output_type": "execute_result",
          "data": {
            "text/plain": [
              "{'t_statistic': -4.42840883965761, 'p_value': 0.0016509548165795493}"
            ]
          },
          "metadata": {},
          "execution_count": 40
        }
      ]
    },
    {
      "cell_type": "code",
      "source": [
        "# Q18. An HR department wants to investigate if there's a gender-based salary gap within the company. Develop\n",
        "# a program to analyze salary data, calculate the t-statistic, and determine if there's a statistically\n",
        "# significant difference between the average salaries of male and female employees.\n",
        "#  Use the below code to generate synthetic data:\n",
        "#  ```python\n",
        "#  # Generate synthetic salary data for male and female employees\n",
        "#  np.random.seed(0)  # For reproducibility\n",
        "#  male_salaries = np.random.normal(loc=50000, scale=10000, size=20)\n",
        "#  female_salaries = np.random.normal(loc=55000, scale=9000, size=20)\n",
        "#  ```\n",
        "\n",
        "# Generate synthetic salary data for male and female employees\n",
        "\n",
        "np.random.seed(0)  # For reproducibility\n",
        "male_salaries = np.random.normal(loc=50000, scale=10000, size=20)\n",
        "female_salaries = np.random.normal(loc=55000, scale=9000, size=20)\n",
        "\n",
        "# Perform the t-test\n",
        "t_statistic, p_value = stats.ttest_ind(male_salaries, female_salaries)\n",
        "\n",
        "print(f\"T-statistic: {t_statistic}\")\n",
        "print(f\"P-value: {p_value}\")\n",
        "\n",
        "alpha = 0.05  # Significance level\n",
        "\n",
        "if p_value < alpha:\n",
        "    print(\"Reject the null hypothesis. There's a statistically significant difference in average salaries between genders.\")\n",
        "else:\n",
        "    print(\"Fail to reject the null hypothesis. There's no statistically significant difference in average salaries between genders.\")\n"
      ],
      "metadata": {
        "colab": {
          "base_uri": "https://localhost:8080/"
        },
        "id": "8X-6hfSaGXON",
        "outputId": "d1df8cc3-d2e8-4533-da58-752aaa714b69"
      },
      "execution_count": 41,
      "outputs": [
        {
          "output_type": "stream",
          "name": "stdout",
          "text": [
            "T-statistic: 0.06114208969631383\n",
            "P-value: 0.9515665020676465\n",
            "Fail to reject the null hypothesis. There's no statistically significant difference in average salaries between genders.\n"
          ]
        }
      ]
    },
    {
      "cell_type": "code",
      "source": [
        "# Q19. A manufacturer produces two different versions of a product and wants to compare their quality scores.\n",
        "# Create a Python function to analyze quality assessment data, calculate the t-statistic, and decide\n",
        "# whether there's a significant difference in quality between the two versions.\n",
        "#  Use the following data:\n",
        "#  ```python\n",
        "#  version1_scores = [85, 88, 82, 89, 87, 84, 90, 88, 85, 86, 91, 83, 87, 84, 89, 86, 84, 88, 85, 86, 89, 90, 87, 88, 85]\n",
        "#  version2_scores = [80, 78, 83, 81, 79, 82, 76, 80, 78, 81, 77, 82, 80, 79, 82, 79, 80, 81, 79, 82, 79, 78, 80, 81, 82]\n",
        "#  ```\n",
        "\n",
        "import scipy.stats as stats\n",
        "\n",
        "def analyze_quality(version1_scores, version2_scores):\n",
        "    \"\"\"\n",
        "    Analyzes quality scores of two product versions using a t-test.\n",
        "\n",
        "    Args:\n",
        "        version1_scores: A list of quality scores for version 1.\n",
        "        version2_scores: A list of quality scores for version 2.\n",
        "\n",
        "    Returns:\n",
        "        A dictionary containing the t-statistic and p-value.\n",
        "    \"\"\"\n",
        "    t_statistic, p_value = stats.ttest_ind(version1_scores, version2_scores)\n",
        "    return {\"t_statistic\": t_statistic, \"p_value\": p_value}\n",
        "\n",
        "version1_scores = [85, 88, 82, 89, 87, 84, 90, 88, 85, 86, 91, 83, 87, 84, 89, 86, 84, 88, 85, 86, 89, 90, 87, 88, 85]\n",
        "version2_scores = [80, 78, 83, 81, 79, 82, 76, 80, 78, 81, 77, 82, 80, 79, 82, 79, 80, 81, 79, 82, 79, 78, 80, 81, 82]\n",
        "\n",
        "results = analyze_quality(version1_scores, version2_scores)\n",
        "results\n"
      ],
      "metadata": {
        "colab": {
          "base_uri": "https://localhost:8080/"
        },
        "id": "yDNx6jipGo_Q",
        "outputId": "8c3aa987-f548-439f-bcc9-2ba756d5f9d7"
      },
      "execution_count": 42,
      "outputs": [
        {
          "output_type": "execute_result",
          "data": {
            "text/plain": [
              "{'t_statistic': 11.325830417646698, 'p_value': 3.6824250702873965e-15}"
            ]
          },
          "metadata": {},
          "execution_count": 42
        }
      ]
    },
    {
      "cell_type": "code",
      "source": [
        "# Q20. A restaurant chain collects customer satisfaction scores for two different branches. Write a program to\n",
        "# analyze the scores, calculate the t-statistic, and determine if there's a statistically significant difference in\n",
        "# customer satisfaction between the branches.\n",
        "#  Use the below data of scores:\n",
        "#  ```python\n",
        "#  branch_a_scores = [4, 5, 3, 4, 5, 4, 5, 3, 4, 4, 5, 4, 4, 3, 4, 5, 5, 4, 3, 4, 5, 4, 3, 5, 4, 4, 5, 3, 4, 5, 4]\n",
        "#  branch_b_scores = [3, 4, 2, 3, 4, 3, 4, 2, 3, 3, 4, 3, 3, 2, 3, 4, 4, 3, 2, 3, 4, 3, 2, 4, 3, 3, 4, 2, 3, 4, 3]\n",
        "\n",
        "branch_a_scores = [4, 5, 3, 4, 5, 4, 5, 3, 4, 4, 5, 4, 4, 3, 4, 5, 5, 4, 3, 4, 5, 4, 3, 5, 4, 4, 5, 3, 4, 5, 4]\n",
        "branch_b_scores = [3, 4, 2, 3, 4, 3, 4, 2, 3, 3, 4, 3, 3, 2, 3, 4, 4, 3, 2, 3, 4, 3, 2, 4, 3, 3, 4, 2, 3, 4, 3]\n",
        "\n",
        "t_statistic, p_value = stats.ttest_ind(branch_a_scores, branch_b_scores)\n",
        "\n",
        "print(f\"T-statistic: {t_statistic}\")\n",
        "print(f\"P-value: {p_value}\")\n",
        "\n",
        "alpha = 0.05  # Significance level\n",
        "\n",
        "if p_value < alpha:\n",
        "    print(\"Reject the null hypothesis. There's a statistically significant difference in customer satisfaction between the branches.\")\n",
        "else:\n",
        "    print(\"Fail to reject the null hypothesis. There's no statistically significant difference in customer satisfaction between the branches.\")\n"
      ],
      "metadata": {
        "colab": {
          "base_uri": "https://localhost:8080/"
        },
        "id": "WF7AmU0kG52r",
        "outputId": "23f29292-4691-42f2-c92d-978e9fd3c0cb"
      },
      "execution_count": 43,
      "outputs": [
        {
          "output_type": "stream",
          "name": "stdout",
          "text": [
            "T-statistic: 5.480077554195743\n",
            "P-value: 8.895290509945655e-07\n",
            "Reject the null hypothesis. There's a statistically significant difference in customer satisfaction between the branches.\n"
          ]
        }
      ]
    },
    {
      "cell_type": "code",
      "source": [
        "# Q21. A political analyst wants to determine if there is a significant association between age groups and voter\n",
        "# preferences (Candidate A or Candidate B). They collect data from a sample of 500 voters and classify\n",
        "# them into different age groups and candidate preferences. Perform a Chi-Square test to determine if\n",
        "# there is a significant association between age groups and voter preferences.\n",
        "#  Use the below code to generate data:\n",
        "#  ```python\n",
        "#  np.random.seed(0)\n",
        "#  age_groups = np.random.choice(['18-30', '31-50', '51+', '51+'], size=30)\n",
        "#  voter_preferences = np.random.choice(['Candidate A', 'Candidate B'], size=30)\n",
        "\n",
        "import numpy as np\n",
        "from scipy.stats import chi2_contingency\n",
        "\n",
        "# Generate synthetic data (replace with your actual data)\n",
        "np.random.seed(0)\n",
        "age_groups = np.random.choice(['18-30', '31-50', '51+'], size=500)\n",
        "voter_preferences = np.random.choice(['Candidate A', 'Candidate B'], size=500)\n",
        "\n",
        "# Create a contingency table\n",
        "contingency_table = pd.crosstab(age_groups, voter_preferences)\n",
        "\n",
        "# Perform the Chi-Square test\n",
        "chi2, p_value, dof, expected = chi2_contingency(contingency_table)\n",
        "\n",
        "print(\"Chi-Square statistic:\", chi2)\n",
        "print(\"P-value:\", p_value)\n",
        "print(\"Degrees of freedom:\", dof)\n",
        "print(\"Expected frequencies:\", expected)\n",
        "\n",
        "alpha = 0.05\n",
        "if p_value < alpha:\n",
        "    print(\"Reject the null hypothesis. There is a significant association between age groups and voter preferences.\")\n",
        "else:\n",
        "    print(\"Fail to reject the null hypothesis. There is no significant association between age groups and voter preferences.\")\n"
      ],
      "metadata": {
        "colab": {
          "base_uri": "https://localhost:8080/"
        },
        "id": "Oo3gjSccHJ9V",
        "outputId": "c8722f36-e639-41b7-b6c7-f47805de7081"
      },
      "execution_count": 44,
      "outputs": [
        {
          "output_type": "stream",
          "name": "stdout",
          "text": [
            "Chi-Square statistic: 0.8779923945254768\n",
            "P-value: 0.6446832311860852\n",
            "Degrees of freedom: 2\n",
            "Expected frequencies: [[96.824 85.176]\n",
            " [89.908 79.092]\n",
            " [79.268 69.732]]\n",
            "Fail to reject the null hypothesis. There is no significant association between age groups and voter preferences.\n"
          ]
        }
      ]
    },
    {
      "cell_type": "code",
      "source": [
        "# Q22. A company conducted a customer satisfaction survey to determine if there is a significant relationship\n",
        "# between product satisfaction levels (Satisfied, Neutral, Dissatisfied) and the region where customers are\n",
        "# located (East, West, North, South). The survey data is summarized in a contingency table. Conduct a Chi\n",
        "# Square test to determine if there is a significant relationship between product satisfaction levels and\n",
        "# customer regions.\n",
        "#  Sample data:\n",
        "#  ```python\n",
        "#  ```\n",
        "#  #Sample data: Product satisfaction levels (rows) vs. Customer regions (columns)\n",
        "#  data = np.array([[50, 30, 40, 20], [30, 40, 30, 50], [20, 30, 40, 30]])\n",
        "\n",
        "# Sample data: Product satisfaction levels (rows) vs. Customer regions (columns)\n",
        "data = np.array([[50, 30, 40, 20], [30, 40, 30, 50], [20, 30, 40, 30]])\n",
        "\n",
        "# Perform the Chi-Square test\n",
        "chi2, p_value, dof, expected = chi2_contingency(data)\n",
        "\n",
        "print(\"Chi-Square statistic:\", chi2)\n",
        "print(\"P-value:\", p_value)\n",
        "print(\"Degrees of freedom:\", dof)\n",
        "print(\"Expected frequencies:\", expected)\n",
        "\n",
        "alpha = 0.05  # Significance level\n",
        "if p_value < alpha:\n",
        "    print(\"Reject the null hypothesis. There is a significant relationship between product satisfaction and customer regions.\")\n",
        "else:\n",
        "    print(\"Fail to reject the null hypothesis. There is no significant relationship between product satisfaction and customer regions.\")\n"
      ],
      "metadata": {
        "colab": {
          "base_uri": "https://localhost:8080/"
        },
        "id": "N9Ozt1FeHWSh",
        "outputId": "31d16fdd-c0e5-48a4-8414-0f0b967076ee"
      },
      "execution_count": 45,
      "outputs": [
        {
          "output_type": "stream",
          "name": "stdout",
          "text": [
            "Chi-Square statistic: 27.777056277056275\n",
            "P-value: 0.00010349448486004387\n",
            "Degrees of freedom: 6\n",
            "Expected frequencies: [[34.14634146 34.14634146 37.56097561 34.14634146]\n",
            " [36.58536585 36.58536585 40.24390244 36.58536585]\n",
            " [29.26829268 29.26829268 32.19512195 29.26829268]]\n",
            "Reject the null hypothesis. There is a significant relationship between product satisfaction and customer regions.\n"
          ]
        }
      ]
    },
    {
      "cell_type": "code",
      "source": [
        "# Q23. A company implemented an employee training program to improve job performance (Effective, Neutral,\n",
        "# Ineffective). After the training, they collected data from a sample of employees and classified them based\n",
        "# on their job performance before and after the training. Perform a Chi-Square test to determine if there is a\n",
        "# significant difference between job performance levels before and after the training.\n",
        "#  Sample data:\n",
        "#  ```python\n",
        "#  data = np.array([[50, 30, 20], [30, 40, 30], [20, 30, 40]])\n",
        "#  ```\n",
        "#  # Sample data: Job performance levels before (rows) and after (columns) training\n",
        "\n",
        "# Sample data: Job performance levels before (rows) and after (columns) training\n",
        "data = np.array([[50, 30, 20], [30, 40, 30], [20, 30, 40]])\n",
        "\n",
        "# Perform the Chi-Square test\n",
        "chi2, p_value, dof, expected = chi2_contingency(data)\n",
        "\n",
        "print(\"Chi-Square statistic:\", chi2)\n",
        "print(\"P-value:\", p_value)\n",
        "print(\"Degrees of freedom:\", dof)\n",
        "print(\"Expected frequencies:\", expected)\n",
        "\n",
        "alpha = 0.05  # Significance level\n",
        "if p_value < alpha:\n",
        "    print(\"Reject the null hypothesis. There is a significant difference in job performance levels before and after the training.\")\n",
        "else:\n",
        "    print(\"Fail to reject the null hypothesis. There is no significant difference in job performance levels before and after the training.\")\n"
      ],
      "metadata": {
        "colab": {
          "base_uri": "https://localhost:8080/"
        },
        "id": "DSCKnFbnHmbU",
        "outputId": "16b5311f-93d6-4361-98f2-456dc1314985"
      },
      "execution_count": 46,
      "outputs": [
        {
          "output_type": "stream",
          "name": "stdout",
          "text": [
            "Chi-Square statistic: 22.161728395061726\n",
            "P-value: 0.00018609719479882557\n",
            "Degrees of freedom: 4\n",
            "Expected frequencies: [[34.48275862 34.48275862 31.03448276]\n",
            " [34.48275862 34.48275862 31.03448276]\n",
            " [31.03448276 31.03448276 27.93103448]]\n",
            "Reject the null hypothesis. There is a significant difference in job performance levels before and after the training.\n"
          ]
        }
      ]
    },
    {
      "cell_type": "code",
      "source": [
        "# Q24. A company produces three different versions of a product: Standard, Premium, and Deluxe. The\n",
        "# company wants to determine if there is a significant difference in customer satisfaction scores among the\n",
        "# three product versions. They conducted a survey and collected customer satisfaction scores for each\n",
        "# version from a random sample of customers. Perform an ANOVA test to determine if there is a significant\n",
        "# difference in customer satisfaction scores.\n",
        "#  Use the following data:\n",
        "#  ```python\n",
        "#  # Sample data: Customer satisfaction scores for each product version\n",
        "#  standard_scores = [80, 85, 90, 78, 88, 82, 92, 78, 85, 87]\n",
        "#  ```\n",
        "#  premium_scores = [90, 92, 88, 92, 95, 91, 96, 93, 89, 93]\n",
        "#  deluxe_scores = [95, 98, 92, 97, 96, 94, 98, 97, 92, 99]\n",
        "\n",
        "from scipy import stats\n",
        "\n",
        "standard_scores = [80, 85, 90, 78, 88, 82, 92, 78, 85, 87]\n",
        "premium_scores = [90, 92, 88, 92, 95, 91, 96, 93, 89, 93]\n",
        "deluxe_scores = [95, 98, 92, 97, 96, 94, 98, 97, 92, 99]\n",
        "\n",
        "fvalue, pvalue = stats.f_oneway(standard_scores, premium_scores, deluxe_scores)\n",
        "\n",
        "print(f\"F-value: {fvalue}\")\n",
        "print(f\"P-value: {pvalue}\")\n",
        "\n",
        "alpha = 0.05\n",
        "if pvalue < alpha:\n",
        "    print(\"Reject the null hypothesis. There is a significant difference in customer satisfaction scores among the three product versions.\")\n",
        "else:\n",
        "    print(\"Fail to reject the null hypothesis. There is no significant difference in customer satisfaction scores among the three product versions.\")\n"
      ],
      "metadata": {
        "colab": {
          "base_uri": "https://localhost:8080/"
        },
        "id": "RIwBCmsrH2ZM",
        "outputId": "0d0c0bd5-5ea8-4a88-c90d-3f822436dd1f"
      },
      "execution_count": 47,
      "outputs": [
        {
          "output_type": "stream",
          "name": "stdout",
          "text": [
            "F-value: 27.03556231003039\n",
            "P-value: 3.5786328857349003e-07\n",
            "Reject the null hypothesis. There is a significant difference in customer satisfaction scores among the three product versions.\n"
          ]
        }
      ]
    }
  ]
}